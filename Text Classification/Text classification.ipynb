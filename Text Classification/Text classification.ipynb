{
  "cells": [
    {
      "cell_type": "markdown",
      "metadata": {
        "id": "RGgnOSoNxibM"
      },
      "source": [
        "##Importing libraries"
      ]
    },
    {
      "cell_type": "code",
      "execution_count": null,
      "metadata": {
        "colab": {
          "base_uri": "https://localhost:8080/"
        },
        "id": "oKjmRH8jxoE8",
        "outputId": "b1a04bf1-cd51-4637-96e1-5e1709f96c18"
      },
      "outputs": [
        {
          "output_type": "stream",
          "name": "stdout",
          "text": [
            "[nltk_data] Downloading package wordnet to /root/nltk_data...\n",
            "[nltk_data]   Unzipping corpora/wordnet.zip.\n",
            "[nltk_data] Downloading package stopwords to /root/nltk_data...\n",
            "[nltk_data]   Unzipping corpora/stopwords.zip.\n"
          ]
        }
      ],
      "source": [
        "import matplotlib\n",
        "import numpy as np\n",
        "import pandas as pd\n",
        "import matplotlib.pyplot as plt \n",
        "import seaborn as sns\n",
        "import re\n",
        "import nltk\n",
        "import re \n",
        "from sklearn.utils import shuffle\n",
        "from urllib import request\n",
        "from nltk.corpus import stopwords\n",
        "from nltk.stem import WordNetLemmatizer\n",
        "nltk.download('wordnet')\n",
        "nltk.download('stopwords')\n",
        "%matplotlib inline"
      ]
    },
    {
      "cell_type": "markdown",
      "metadata": {
        "id": "0yGX712Kxrm0"
      },
      "source": [
        "## Importing Gutenberg books\n",
        "\n",
        "\n",
        "\n"
      ]
    },
    {
      "cell_type": "code",
      "execution_count": null,
      "metadata": {
        "id": "NfP4Tp0d1odx"
      },
      "outputs": [],
      "source": [
        "url_1= \"https://www.gutenberg.org/files/1484/1484-0.txt\"\n",
        "url_2 = \"https://www.gutenberg.org/cache/epub/19317/pg19317.txt\"\n",
        "url_3 = \"https://www.gutenberg.org/cache/epub/10444/pg10444.txt\"\n",
        "url_4 = \"https://www.gutenberg.org/files/559/559-0.txt\"\n",
        "url_5 = \"https://www.gutenberg.org/files/3317/3317-0.txt\""
      ]
    },
    {
      "cell_type": "code",
      "execution_count": null,
      "metadata": {
        "id": "yL9lxBlY3h8y"
      },
      "outputs": [],
      "source": [
        "response_1= request.urlopen(url_1)\n",
        "raw_1= response_1.read().decode('utf8')\n",
        "raw_1 = raw_1.replace(raw_1[:1356],'')\n",
        "\n",
        "response_2= request.urlopen(url_2)\n",
        "raw_2= response_2.read().decode('utf8')\n",
        "raw_2 = raw_2.replace(raw_2[:12285],'')\n",
        "\n",
        "response_3= request.urlopen(url_3)\n",
        "raw_3= response_3.read().decode('utf8')\n",
        "raw_3 = raw_3.replace(raw_3[:5392],'')\n",
        "\n",
        "response_4= request.urlopen(url_4)\n",
        "raw_4= response_4.read().decode('utf8')\n",
        "raw_4 = raw_4.replace(raw_4[:3156],'')\n",
        "\n",
        "response_5= request.urlopen(url_5)\n",
        "raw_5= response_5.read().decode('utf8')\n",
        "raw_5 = raw_5.replace(raw_5[:2937],'')"
      ]
    },
    {
      "cell_type": "code",
      "execution_count": null,
      "metadata": {
        "colab": {
          "base_uri": "https://localhost:8080/",
          "height": 206
        },
        "id": "5KeISjMh3LIA",
        "outputId": "02a7c571-319f-487e-d768-a6ec924a353c"
      },
      "outputs": [
        {
          "output_type": "execute_result",
          "data": {
            "text/plain": [
              "                             book_name                authors book_genre  \\\n",
              "0  The Four Horsemen of the Apocalypse  Vicente Blasco Ibanez      War I   \n",
              "1                      Gallipoli Diary           Ian Hamilton      War I   \n",
              "2               The Peace Negotiations         Robert Lansing      War I   \n",
              "3                          Greenmantle            John Buchan      War I   \n",
              "4                   Now It Can Be Told           Philip Gibbs      War I   \n",
              "\n",
              "                                        book_content  \n",
              "0  PART I\\r\\n\\r\\n\\r\\n\\r\\nCHAPTER I\\r\\n\\r\\nTHE TRY...  \n",
              "1  GALLIPOLI DIARY\\r\\n\\r\\n\\r\\n\\r\\nCHAPTER I\\r\\n\\r...  \n",
              "2  CHAPTER I\\r\\n\\r\\nREASONS FOR WRITING A PERSONA...  \n",
              "3  CHAPTER I.\\r\\nA Mission is Proposed\\r\\n\\r\\n\\r\\...  \n",
              "4  PART ONE. OBSERVERS AND COMMANDERS\\r\\n\\r\\n\\r\\n...  "
            ],
            "text/html": [
              "\n",
              "  <div id=\"df-67952777-a443-4adb-b062-6d78ce441044\">\n",
              "    <div class=\"colab-df-container\">\n",
              "      <div>\n",
              "<style scoped>\n",
              "    .dataframe tbody tr th:only-of-type {\n",
              "        vertical-align: middle;\n",
              "    }\n",
              "\n",
              "    .dataframe tbody tr th {\n",
              "        vertical-align: top;\n",
              "    }\n",
              "\n",
              "    .dataframe thead th {\n",
              "        text-align: right;\n",
              "    }\n",
              "</style>\n",
              "<table border=\"1\" class=\"dataframe\">\n",
              "  <thead>\n",
              "    <tr style=\"text-align: right;\">\n",
              "      <th></th>\n",
              "      <th>book_name</th>\n",
              "      <th>authors</th>\n",
              "      <th>book_genre</th>\n",
              "      <th>book_content</th>\n",
              "    </tr>\n",
              "  </thead>\n",
              "  <tbody>\n",
              "    <tr>\n",
              "      <th>0</th>\n",
              "      <td>The Four Horsemen of the Apocalypse</td>\n",
              "      <td>Vicente Blasco Ibanez</td>\n",
              "      <td>War I</td>\n",
              "      <td>PART I\\r\\n\\r\\n\\r\\n\\r\\nCHAPTER I\\r\\n\\r\\nTHE TRY...</td>\n",
              "    </tr>\n",
              "    <tr>\n",
              "      <th>1</th>\n",
              "      <td>Gallipoli Diary</td>\n",
              "      <td>Ian Hamilton</td>\n",
              "      <td>War I</td>\n",
              "      <td>GALLIPOLI DIARY\\r\\n\\r\\n\\r\\n\\r\\nCHAPTER I\\r\\n\\r...</td>\n",
              "    </tr>\n",
              "    <tr>\n",
              "      <th>2</th>\n",
              "      <td>The Peace Negotiations</td>\n",
              "      <td>Robert Lansing</td>\n",
              "      <td>War I</td>\n",
              "      <td>CHAPTER I\\r\\n\\r\\nREASONS FOR WRITING A PERSONA...</td>\n",
              "    </tr>\n",
              "    <tr>\n",
              "      <th>3</th>\n",
              "      <td>Greenmantle</td>\n",
              "      <td>John Buchan</td>\n",
              "      <td>War I</td>\n",
              "      <td>CHAPTER I.\\r\\nA Mission is Proposed\\r\\n\\r\\n\\r\\...</td>\n",
              "    </tr>\n",
              "    <tr>\n",
              "      <th>4</th>\n",
              "      <td>Now It Can Be Told</td>\n",
              "      <td>Philip Gibbs</td>\n",
              "      <td>War I</td>\n",
              "      <td>PART ONE. OBSERVERS AND COMMANDERS\\r\\n\\r\\n\\r\\n...</td>\n",
              "    </tr>\n",
              "  </tbody>\n",
              "</table>\n",
              "</div>\n",
              "      <button class=\"colab-df-convert\" onclick=\"convertToInteractive('df-67952777-a443-4adb-b062-6d78ce441044')\"\n",
              "              title=\"Convert this dataframe to an interactive table.\"\n",
              "              style=\"display:none;\">\n",
              "        \n",
              "  <svg xmlns=\"http://www.w3.org/2000/svg\" height=\"24px\"viewBox=\"0 0 24 24\"\n",
              "       width=\"24px\">\n",
              "    <path d=\"M0 0h24v24H0V0z\" fill=\"none\"/>\n",
              "    <path d=\"M18.56 5.44l.94 2.06.94-2.06 2.06-.94-2.06-.94-.94-2.06-.94 2.06-2.06.94zm-11 1L8.5 8.5l.94-2.06 2.06-.94-2.06-.94L8.5 2.5l-.94 2.06-2.06.94zm10 10l.94 2.06.94-2.06 2.06-.94-2.06-.94-.94-2.06-.94 2.06-2.06.94z\"/><path d=\"M17.41 7.96l-1.37-1.37c-.4-.4-.92-.59-1.43-.59-.52 0-1.04.2-1.43.59L10.3 9.45l-7.72 7.72c-.78.78-.78 2.05 0 2.83L4 21.41c.39.39.9.59 1.41.59.51 0 1.02-.2 1.41-.59l7.78-7.78 2.81-2.81c.8-.78.8-2.07 0-2.86zM5.41 20L4 18.59l7.72-7.72 1.47 1.35L5.41 20z\"/>\n",
              "  </svg>\n",
              "      </button>\n",
              "      \n",
              "  <style>\n",
              "    .colab-df-container {\n",
              "      display:flex;\n",
              "      flex-wrap:wrap;\n",
              "      gap: 12px;\n",
              "    }\n",
              "\n",
              "    .colab-df-convert {\n",
              "      background-color: #E8F0FE;\n",
              "      border: none;\n",
              "      border-radius: 50%;\n",
              "      cursor: pointer;\n",
              "      display: none;\n",
              "      fill: #1967D2;\n",
              "      height: 32px;\n",
              "      padding: 0 0 0 0;\n",
              "      width: 32px;\n",
              "    }\n",
              "\n",
              "    .colab-df-convert:hover {\n",
              "      background-color: #E2EBFA;\n",
              "      box-shadow: 0px 1px 2px rgba(60, 64, 67, 0.3), 0px 1px 3px 1px rgba(60, 64, 67, 0.15);\n",
              "      fill: #174EA6;\n",
              "    }\n",
              "\n",
              "    [theme=dark] .colab-df-convert {\n",
              "      background-color: #3B4455;\n",
              "      fill: #D2E3FC;\n",
              "    }\n",
              "\n",
              "    [theme=dark] .colab-df-convert:hover {\n",
              "      background-color: #434B5C;\n",
              "      box-shadow: 0px 1px 3px 1px rgba(0, 0, 0, 0.15);\n",
              "      filter: drop-shadow(0px 1px 2px rgba(0, 0, 0, 0.3));\n",
              "      fill: #FFFFFF;\n",
              "    }\n",
              "  </style>\n",
              "\n",
              "      <script>\n",
              "        const buttonEl =\n",
              "          document.querySelector('#df-67952777-a443-4adb-b062-6d78ce441044 button.colab-df-convert');\n",
              "        buttonEl.style.display =\n",
              "          google.colab.kernel.accessAllowed ? 'block' : 'none';\n",
              "\n",
              "        async function convertToInteractive(key) {\n",
              "          const element = document.querySelector('#df-67952777-a443-4adb-b062-6d78ce441044');\n",
              "          const dataTable =\n",
              "            await google.colab.kernel.invokeFunction('convertToInteractive',\n",
              "                                                     [key], {});\n",
              "          if (!dataTable) return;\n",
              "\n",
              "          const docLinkHtml = 'Like what you see? Visit the ' +\n",
              "            '<a target=\"_blank\" href=https://colab.research.google.com/notebooks/data_table.ipynb>data table notebook</a>'\n",
              "            + ' to learn more about interactive tables.';\n",
              "          element.innerHTML = '';\n",
              "          dataTable['output_type'] = 'display_data';\n",
              "          await google.colab.output.renderOutput(dataTable, element);\n",
              "          const docLink = document.createElement('div');\n",
              "          docLink.innerHTML = docLinkHtml;\n",
              "          element.appendChild(docLink);\n",
              "        }\n",
              "      </script>\n",
              "    </div>\n",
              "  </div>\n",
              "  "
            ]
          },
          "metadata": {},
          "execution_count": 4
        }
      ],
      "source": [
        "book_content = {'The Four Horsemen of the Apocalypse':raw_1,'Gallipoli Diary':raw_2 , 'The Peace Negotiations':raw_3, 'Greenmantle':raw_4, 'Now It Can Be Told':raw_5}\n",
        "book_name = ['The Four Horsemen of the Apocalypse', 'Gallipoli Diary' , 'The Peace Negotiations', 'Greenmantle', 'Now It Can Be Told']\n",
        "authors = ['Vicente Blasco Ibanez', 'Ian Hamilton' ,'Robert Lansing','John Buchan', 'Philip Gibbs']\n",
        "genre = ['War I', 'War I','War I','War I','War I']\n",
        "books = pd.DataFrame()\n",
        "books['book_name'] = book_content.keys()\n",
        "books['authors'] = authors\n",
        "books['book_genre'] = genre\n",
        "books['book_content'] = book_content.values()\n",
        "books"
      ]
    },
    {
      "cell_type": "code",
      "execution_count": null,
      "metadata": {
        "colab": {
          "base_uri": "https://localhost:8080/"
        },
        "id": "iir2Njj4DGhc",
        "outputId": "9360b4cd-3013-416b-a399-09af6f4fe845"
      },
      "outputs": [
        {
          "name": "stdout",
          "output_type": "stream",
          "text": [
            "Enter numbers of books: 5\n",
            "0    The Four Horsemen of the Apocalypse\n",
            "1                        Gallipoli Diary\n",
            "2                 The Peace Negotiations\n",
            "3                            Greenmantle\n",
            "4                     Now It Can Be Told\n",
            "Name: book_name, dtype: object\n",
            "kindly choose one book from the list, or press e to escape  The Four Horsemen of the Apocalypse\n",
            "kindly choose one book from the list, or press e to escape  Gallipoli Diary\n",
            "kindly choose one book from the list, or press e to escape  The Peace Negotiations\n",
            "kindly choose one book from the list, or press e to escape  Greenmantle\n",
            "kindly choose one book from the list, or press e to escape  Now It Can Be Told\n",
            "you have choosed these books :   ['The Four Horsemen of the Apocalypse', 'Gallipoli Diary', 'The Peace Negotiations', 'Greenmantle', 'Now It Can Be Told']\n",
            "Enter the number of partitions: 200\n",
            "Enter the number of words: 70\n"
          ]
        }
      ],
      "source": [
        "books_input=[]\n",
        "books_chosen =[]\n",
        "books_no = int(input(\"Enter numbers of books: \"))\n",
        "print(books['book_name'])\n",
        "for i in range (books_no):  \n",
        "  x = input(\"kindly choose one book from the list, or press e to escape  \")\n",
        "  if x in book_name:\n",
        "    books_input.append(x)\n",
        "    books_chosen.append(book_content[x])\n",
        "  elif x == 'e':\n",
        "    break\n",
        "  else:\n",
        "    print('sorry, invalid book name')\n",
        "print('you have choosed these books :  ', books_input)\n",
        "partition_no = input(\"Enter the number of partitions: \")\n",
        "word_no = input(\"Enter the number of words: \")"
      ]
    },
    {
      "cell_type": "markdown",
      "metadata": {
        "id": "9h15aH83x0HQ"
      },
      "source": [
        "## Cleaning"
      ]
    },
    {
      "cell_type": "code",
      "execution_count": null,
      "metadata": {
        "id": "rwjYBDsuDczu"
      },
      "outputs": [],
      "source": [
        "def Cleaning(books_chosen,books_input):\n",
        "  #corpus = [] #creating empty list\n",
        "  dict_1 ={}  #creating empty dictionary\n",
        "#cleaning the books\n",
        "  for i in range(len(books_input)):\n",
        "      #removing all letters except a to z and A to Z\n",
        "    clean = re.sub('[^a-zA-Z]', ' ', books_chosen[i])\n",
        "      #converting all characters into lowercase\n",
        "    clean = clean.lower()\n",
        "      #removing whitespace\n",
        "    clean = clean.strip()\n",
        "      #spliting the words by whitespace\n",
        "    clean = re.split(' ',clean)\n",
        "      # removing all stop words and return the word into thier orignal\n",
        "    clean = [word for word in clean if not word in set(stopwords.words('english'))]\n",
        "    lemmatizer = WordNetLemmatizer()\n",
        "    clean = [lemmatizer.lemmatize(w) for w in clean]\n",
        "      #puting corpus list into dictionary\n",
        "    dict_1[i]=clean \n",
        "        #removing all \"\" from list\n",
        "    dict_1[i] = [i for i in dict_1[i] if i]\n",
        "  return dict_1"
      ]
    },
    {
      "cell_type": "markdown",
      "metadata": {
        "id": "Ex7J4IDSx338"
      },
      "source": [
        "##Partitions"
      ]
    },
    {
      "cell_type": "code",
      "execution_count": null,
      "metadata": {
        "id": "No56zYJFDgxO"
      },
      "outputs": [],
      "source": [
        "def partitions(books_chosen,books_input,partition_no,word_no):\n",
        "  df=pd.DataFrame()\n",
        "  dict_1 = Cleaning(books_chosen,books_input)\n",
        "  for key in range(len(books_input)):\n",
        "    x=books_input[key]\n",
        "    dict_1[x]=dict_1[key]\n",
        "    del dict_1[key]  \n",
        "    #make 200 partitions each partitions contain 100 words\n",
        "  for x in books_input:\n",
        "    df[x] = [dict_1[x][i*partition_no:i*partition_no+word_no] for i in range(partition_no)]\n",
        "    #merging the 2 columns into one column\n",
        "  df=df.stack().reset_index()\n",
        "    #delete column level_0\n",
        "  df.drop('level_0',inplace=True,axis=1)\n",
        "    #rename the columns in dataframe\n",
        "  df.rename(columns={0:\"Words\",\"level_1\":\"books name\"},inplace=True)\n",
        "  for i in range(len(df)):\n",
        "    df.Words[i] = ' '.join(map(str,df.Words[i]))\n",
        "  df = shuffle(df)\n",
        "  return df"
      ]
    },
    {
      "cell_type": "code",
      "execution_count": null,
      "metadata": {
        "colab": {
          "base_uri": "https://localhost:8080/",
          "height": 424
        },
        "id": "W1M0Hdx0DksU",
        "outputId": "c99e37e8-7848-4832-ab39-4dd5d8ac9d73"
      },
      "outputs": [
        {
          "output_type": "execute_result",
          "data": {
            "text/plain": [
              "                              books name  \\\n",
              "85   The Four Horsemen of the Apocalypse   \n",
              "880  The Four Horsemen of the Apocalypse   \n",
              "763                          Greenmantle   \n",
              "812               The Peace Negotiations   \n",
              "830  The Four Horsemen of the Apocalypse   \n",
              "..                                   ...   \n",
              "16                       Gallipoli Diary   \n",
              "734                   Now It Can Be Told   \n",
              "727               The Peace Negotiations   \n",
              "199                   Now It Can Be Told   \n",
              "695  The Four Horsemen of the Apocalypse   \n",
              "\n",
              "                                                 Words  \n",
              "85   night although twenty four hour yet passed des...  \n",
              "880  nord every twenty four hour lessening radius t...  \n",
              "763  offered protection lamented rasta brought pass...  \n",
              "812  imposed upon germany treaty versailles evident...  \n",
              "830  heretofore never taken plucky little nation ac...  \n",
              "..                                                 ...  \n",
              "16   come troop finished musketry need squabble div...  \n",
              "734  alf rummaging souvenir half destroyed dugout d...  \n",
              "727  would seem valid argument could made favor sus...  \n",
              "199  colonel child writing opposite adjutant genera...  \n",
              "695  guard various soldier gun shoulder forward mar...  \n",
              "\n",
              "[1000 rows x 2 columns]"
            ],
            "text/html": [
              "\n",
              "  <div id=\"df-2c8750d7-e4b3-4bc9-bc20-7212590dff4e\">\n",
              "    <div class=\"colab-df-container\">\n",
              "      <div>\n",
              "<style scoped>\n",
              "    .dataframe tbody tr th:only-of-type {\n",
              "        vertical-align: middle;\n",
              "    }\n",
              "\n",
              "    .dataframe tbody tr th {\n",
              "        vertical-align: top;\n",
              "    }\n",
              "\n",
              "    .dataframe thead th {\n",
              "        text-align: right;\n",
              "    }\n",
              "</style>\n",
              "<table border=\"1\" class=\"dataframe\">\n",
              "  <thead>\n",
              "    <tr style=\"text-align: right;\">\n",
              "      <th></th>\n",
              "      <th>books name</th>\n",
              "      <th>Words</th>\n",
              "    </tr>\n",
              "  </thead>\n",
              "  <tbody>\n",
              "    <tr>\n",
              "      <th>85</th>\n",
              "      <td>The Four Horsemen of the Apocalypse</td>\n",
              "      <td>night although twenty four hour yet passed des...</td>\n",
              "    </tr>\n",
              "    <tr>\n",
              "      <th>880</th>\n",
              "      <td>The Four Horsemen of the Apocalypse</td>\n",
              "      <td>nord every twenty four hour lessening radius t...</td>\n",
              "    </tr>\n",
              "    <tr>\n",
              "      <th>763</th>\n",
              "      <td>Greenmantle</td>\n",
              "      <td>offered protection lamented rasta brought pass...</td>\n",
              "    </tr>\n",
              "    <tr>\n",
              "      <th>812</th>\n",
              "      <td>The Peace Negotiations</td>\n",
              "      <td>imposed upon germany treaty versailles evident...</td>\n",
              "    </tr>\n",
              "    <tr>\n",
              "      <th>830</th>\n",
              "      <td>The Four Horsemen of the Apocalypse</td>\n",
              "      <td>heretofore never taken plucky little nation ac...</td>\n",
              "    </tr>\n",
              "    <tr>\n",
              "      <th>...</th>\n",
              "      <td>...</td>\n",
              "      <td>...</td>\n",
              "    </tr>\n",
              "    <tr>\n",
              "      <th>16</th>\n",
              "      <td>Gallipoli Diary</td>\n",
              "      <td>come troop finished musketry need squabble div...</td>\n",
              "    </tr>\n",
              "    <tr>\n",
              "      <th>734</th>\n",
              "      <td>Now It Can Be Told</td>\n",
              "      <td>alf rummaging souvenir half destroyed dugout d...</td>\n",
              "    </tr>\n",
              "    <tr>\n",
              "      <th>727</th>\n",
              "      <td>The Peace Negotiations</td>\n",
              "      <td>would seem valid argument could made favor sus...</td>\n",
              "    </tr>\n",
              "    <tr>\n",
              "      <th>199</th>\n",
              "      <td>Now It Can Be Told</td>\n",
              "      <td>colonel child writing opposite adjutant genera...</td>\n",
              "    </tr>\n",
              "    <tr>\n",
              "      <th>695</th>\n",
              "      <td>The Four Horsemen of the Apocalypse</td>\n",
              "      <td>guard various soldier gun shoulder forward mar...</td>\n",
              "    </tr>\n",
              "  </tbody>\n",
              "</table>\n",
              "<p>1000 rows × 2 columns</p>\n",
              "</div>\n",
              "      <button class=\"colab-df-convert\" onclick=\"convertToInteractive('df-2c8750d7-e4b3-4bc9-bc20-7212590dff4e')\"\n",
              "              title=\"Convert this dataframe to an interactive table.\"\n",
              "              style=\"display:none;\">\n",
              "        \n",
              "  <svg xmlns=\"http://www.w3.org/2000/svg\" height=\"24px\"viewBox=\"0 0 24 24\"\n",
              "       width=\"24px\">\n",
              "    <path d=\"M0 0h24v24H0V0z\" fill=\"none\"/>\n",
              "    <path d=\"M18.56 5.44l.94 2.06.94-2.06 2.06-.94-2.06-.94-.94-2.06-.94 2.06-2.06.94zm-11 1L8.5 8.5l.94-2.06 2.06-.94-2.06-.94L8.5 2.5l-.94 2.06-2.06.94zm10 10l.94 2.06.94-2.06 2.06-.94-2.06-.94-.94-2.06-.94 2.06-2.06.94z\"/><path d=\"M17.41 7.96l-1.37-1.37c-.4-.4-.92-.59-1.43-.59-.52 0-1.04.2-1.43.59L10.3 9.45l-7.72 7.72c-.78.78-.78 2.05 0 2.83L4 21.41c.39.39.9.59 1.41.59.51 0 1.02-.2 1.41-.59l7.78-7.78 2.81-2.81c.8-.78.8-2.07 0-2.86zM5.41 20L4 18.59l7.72-7.72 1.47 1.35L5.41 20z\"/>\n",
              "  </svg>\n",
              "      </button>\n",
              "      \n",
              "  <style>\n",
              "    .colab-df-container {\n",
              "      display:flex;\n",
              "      flex-wrap:wrap;\n",
              "      gap: 12px;\n",
              "    }\n",
              "\n",
              "    .colab-df-convert {\n",
              "      background-color: #E8F0FE;\n",
              "      border: none;\n",
              "      border-radius: 50%;\n",
              "      cursor: pointer;\n",
              "      display: none;\n",
              "      fill: #1967D2;\n",
              "      height: 32px;\n",
              "      padding: 0 0 0 0;\n",
              "      width: 32px;\n",
              "    }\n",
              "\n",
              "    .colab-df-convert:hover {\n",
              "      background-color: #E2EBFA;\n",
              "      box-shadow: 0px 1px 2px rgba(60, 64, 67, 0.3), 0px 1px 3px 1px rgba(60, 64, 67, 0.15);\n",
              "      fill: #174EA6;\n",
              "    }\n",
              "\n",
              "    [theme=dark] .colab-df-convert {\n",
              "      background-color: #3B4455;\n",
              "      fill: #D2E3FC;\n",
              "    }\n",
              "\n",
              "    [theme=dark] .colab-df-convert:hover {\n",
              "      background-color: #434B5C;\n",
              "      box-shadow: 0px 1px 3px 1px rgba(0, 0, 0, 0.15);\n",
              "      filter: drop-shadow(0px 1px 2px rgba(0, 0, 0, 0.3));\n",
              "      fill: #FFFFFF;\n",
              "    }\n",
              "  </style>\n",
              "\n",
              "      <script>\n",
              "        const buttonEl =\n",
              "          document.querySelector('#df-2c8750d7-e4b3-4bc9-bc20-7212590dff4e button.colab-df-convert');\n",
              "        buttonEl.style.display =\n",
              "          google.colab.kernel.accessAllowed ? 'block' : 'none';\n",
              "\n",
              "        async function convertToInteractive(key) {\n",
              "          const element = document.querySelector('#df-2c8750d7-e4b3-4bc9-bc20-7212590dff4e');\n",
              "          const dataTable =\n",
              "            await google.colab.kernel.invokeFunction('convertToInteractive',\n",
              "                                                     [key], {});\n",
              "          if (!dataTable) return;\n",
              "\n",
              "          const docLinkHtml = 'Like what you see? Visit the ' +\n",
              "            '<a target=\"_blank\" href=https://colab.research.google.com/notebooks/data_table.ipynb>data table notebook</a>'\n",
              "            + ' to learn more about interactive tables.';\n",
              "          element.innerHTML = '';\n",
              "          dataTable['output_type'] = 'display_data';\n",
              "          await google.colab.output.renderOutput(dataTable, element);\n",
              "          const docLink = document.createElement('div');\n",
              "          docLink.innerHTML = docLinkHtml;\n",
              "          element.appendChild(docLink);\n",
              "        }\n",
              "      </script>\n",
              "    </div>\n",
              "  </div>\n",
              "  "
            ]
          },
          "metadata": {},
          "execution_count": 8
        }
      ],
      "source": [
        "data = partitions(books_chosen,books_input,int(partition_no),int(word_no))\n",
        "data"
      ]
    },
    {
      "cell_type": "markdown",
      "source": [
        "##Splitting train and test datasets"
      ],
      "metadata": {
        "id": "WiydwEJdksLX"
      }
    },
    {
      "cell_type": "code",
      "source": [
        "from sklearn.model_selection import train_test_split\n",
        "x_train,x_test,y_train,y_test = train_test_split(data['Words'],data['books name'],test_size=0.2,random_state =0)"
      ],
      "metadata": {
        "id": "5EAqHd8rkyIU"
      },
      "execution_count": null,
      "outputs": []
    },
    {
      "cell_type": "markdown",
      "metadata": {
        "id": "89ubI4ijx9Sg"
      },
      "source": [
        "##Transformation"
      ]
    },
    {
      "cell_type": "code",
      "execution_count": null,
      "metadata": {
        "id": "EXg417hRbi44"
      },
      "outputs": [],
      "source": [
        "from sklearn.feature_extraction.text import CountVectorizer\n",
        "vectorizer = CountVectorizer(ngram_range = (1, 2))\n",
        "x_train_bow = vectorizer.fit_transform(x_train).toarray()\n",
        "x_test_bow = vectorizer.transform(x_test).toarray()"
      ]
    },
    {
      "cell_type": "code",
      "execution_count": null,
      "metadata": {
        "id": "rrrJYPZRbjlp"
      },
      "outputs": [],
      "source": [
        "from sklearn.feature_extraction.text import TfidfVectorizer\n",
        "tfidf  = TfidfVectorizer(ngram_range=(1,2))\n",
        "x_train_tfid = tfidf.fit_transform(x_train).toarray()\n",
        "x_test_tfid = tfidf.transform(x_test).toarray()"
      ]
    },
    {
      "cell_type": "markdown",
      "metadata": {
        "id": "loJWrNJ4yBC6"
      },
      "source": [
        "##Label Encoder"
      ]
    },
    {
      "cell_type": "code",
      "execution_count": null,
      "metadata": {
        "id": "OxbkiGSdbuxi"
      },
      "outputs": [],
      "source": [
        "from sklearn.preprocessing import LabelEncoder\n",
        "le = LabelEncoder()\n",
        "y_train = le.fit_transform(y_train)\n",
        "y_test = le.transform(y_test)"
      ]
    },
    {
      "cell_type": "markdown",
      "metadata": {
        "id": "XqxIkz3TyNs5"
      },
      "source": [
        "##SVM model"
      ]
    },
    {
      "cell_type": "markdown",
      "metadata": {
        "id": "-__dNrnkyUni"
      },
      "source": [
        "1. BOW"
      ]
    },
    {
      "cell_type": "code",
      "execution_count": null,
      "metadata": {
        "colab": {
          "base_uri": "https://localhost:8080/"
        },
        "id": "IrJ6AAWoby5F",
        "outputId": "04fcbca8-4986-4fe7-d507-028534e67c78"
      },
      "outputs": [
        {
          "output_type": "stream",
          "name": "stdout",
          "text": [
            "Accuracy: 95.25 %\n",
            "Standard Deviation: 1.46 %\n"
          ]
        }
      ],
      "source": [
        "from sklearn.model_selection import cross_val_score\n",
        "from sklearn.svm import SVC\n",
        "classifier_svc_bow = SVC(kernel ='linear')\n",
        "accuracies_svc_bow = cross_val_score(classifier_svc_bow, X=x_train_bow,y=y_train,cv=10)\n",
        "print(\"Accuracy: {:.2f} %\".format(accuracies_svc_bow.mean()*100))\n",
        "print(\"Standard Deviation: {:.2f} %\".format(accuracies_svc_bow.std()*100))"
      ]
    },
    {
      "cell_type": "code",
      "execution_count": null,
      "metadata": {
        "id": "o_kGFEmlcBDN",
        "colab": {
          "base_uri": "https://localhost:8080/"
        },
        "outputId": "5fc2b2fa-e301-4c6f-8b18-cb7e85375d4c"
      },
      "outputs": [
        {
          "output_type": "execute_result",
          "data": {
            "text/plain": [
              "array([0, 1, 2, 1, 0, 1, 3, 1, 2, 1, 4, 0, 0, 2, 0, 4, 4, 2, 3, 4, 3, 3,\n",
              "       4, 2, 2, 0, 2, 0, 1, 3, 2, 3, 4, 4, 0, 1, 2, 2, 4, 4, 1, 2, 2, 3,\n",
              "       3, 2, 2, 1, 4, 3, 0, 4, 4, 3, 2, 4, 3, 2, 1, 4, 3, 3, 2, 3, 2, 0,\n",
              "       0, 3, 3, 4, 0, 3, 1, 3, 3, 2, 3, 0, 2, 4, 3, 4, 4, 3, 1, 0, 3, 2,\n",
              "       2, 0, 1, 4, 2, 4, 2, 1, 2, 0, 1, 4, 1, 2, 4, 2, 2, 1, 4, 2, 0, 4,\n",
              "       4, 0, 4, 2, 1, 3, 1, 2, 2, 1, 4, 1, 3, 2, 2, 3, 4, 1, 1, 2, 4, 1,\n",
              "       4, 0, 2, 0, 1, 4, 1, 4, 1, 1, 1, 4, 3, 1, 0, 4, 3, 2, 2, 4, 4, 4,\n",
              "       0, 4, 3, 0, 3, 2, 1, 0, 1, 1, 1, 0, 1, 4, 3, 0, 3, 3, 0, 2, 3, 4,\n",
              "       4, 4, 3, 0, 4, 3, 2, 4, 4, 2, 4, 1, 2, 0, 1, 4, 0, 1, 3, 2, 2, 0,\n",
              "       3, 3])"
            ]
          },
          "metadata": {},
          "execution_count": 14
        }
      ],
      "source": [
        "classifier_svc_bow.fit(x_train_bow,y_train)\n",
        "y_pred_svc_bow = classifier_svc_bow.predict(x_test_bow)\n",
        "y_pred_svc_bow"
      ]
    },
    {
      "cell_type": "code",
      "execution_count": null,
      "metadata": {
        "id": "TzvHA9GzSYES",
        "colab": {
          "base_uri": "https://localhost:8080/"
        },
        "outputId": "36755d3e-2e53-4da7-a610-7bb7dcffa723"
      },
      "outputs": [
        {
          "output_type": "execute_result",
          "data": {
            "text/plain": [
              "array([0, 1, 2, 1, 0, 1, 3, 1, 2, 1, 4, 0, 0, 2, 0, 4, 4, 2, 3, 4, 3, 3,\n",
              "       4, 2, 2, 0, 2, 0, 1, 3, 2, 3, 4, 4, 0, 1, 2, 2, 4, 4, 1, 2, 2, 3,\n",
              "       3, 2, 2, 1, 4, 3, 0, 4, 4, 3, 2, 4, 3, 2, 1, 4, 3, 3, 2, 3, 2, 0,\n",
              "       1, 3, 3, 4, 0, 3, 1, 3, 3, 2, 3, 0, 2, 4, 3, 4, 4, 3, 1, 0, 3, 2,\n",
              "       2, 0, 1, 4, 2, 4, 2, 1, 2, 0, 1, 4, 1, 2, 4, 2, 2, 1, 4, 2, 0, 4,\n",
              "       4, 0, 4, 2, 1, 3, 1, 2, 2, 1, 4, 1, 3, 2, 2, 1, 4, 1, 1, 2, 4, 1,\n",
              "       4, 0, 2, 0, 1, 4, 1, 4, 1, 1, 1, 4, 3, 1, 0, 4, 3, 2, 2, 4, 4, 4,\n",
              "       0, 4, 3, 0, 3, 2, 0, 0, 1, 1, 1, 0, 1, 4, 3, 0, 3, 3, 0, 2, 3, 4,\n",
              "       4, 4, 3, 0, 4, 3, 2, 4, 4, 2, 4, 1, 2, 0, 1, 4, 0, 1, 3, 2, 2, 0,\n",
              "       3, 3])"
            ]
          },
          "metadata": {},
          "execution_count": 15
        }
      ],
      "source": [
        "y_test"
      ]
    },
    {
      "cell_type": "code",
      "execution_count": null,
      "metadata": {
        "id": "iGocB5xWchiY",
        "colab": {
          "base_uri": "https://localhost:8080/"
        },
        "outputId": "ff6c5b6b-6862-40ad-8c45-f865c36c2b9f"
      },
      "outputs": [
        {
          "output_type": "stream",
          "name": "stdout",
          "text": [
            "[[30  1  0  0  0]\n",
            " [ 1 37  0  1  0]\n",
            " [ 0  0 45  0  0]\n",
            " [ 0  0  0 38  0]\n",
            " [ 0  0  0  0 47]]\n"
          ]
        },
        {
          "output_type": "execute_result",
          "data": {
            "text/plain": [
              "0.985"
            ]
          },
          "metadata": {},
          "execution_count": 16
        }
      ],
      "source": [
        "from sklearn.metrics import confusion_matrix,accuracy_score\n",
        "cm_svc_bow = confusion_matrix(y_test,y_pred_svc_bow)\n",
        "print(cm_svc_bow)\n",
        "accuracy_svc_bow=accuracy_score(y_test,y_pred_svc_bow)\n",
        "accuracy_svc_bow"
      ]
    },
    {
      "cell_type": "markdown",
      "metadata": {
        "id": "-w9qcQagyZHe"
      },
      "source": [
        "2.TFID"
      ]
    },
    {
      "cell_type": "code",
      "execution_count": null,
      "metadata": {
        "id": "dktESFG3gAvS",
        "colab": {
          "base_uri": "https://localhost:8080/"
        },
        "outputId": "83a3099f-2071-48d8-a70b-b1428b64758f"
      },
      "outputs": [
        {
          "output_type": "stream",
          "name": "stdout",
          "text": [
            "Accuracy: 96.88 %\n",
            "Standard Deviation: 1.51 %\n"
          ]
        }
      ],
      "source": [
        "classifier_svc_tfid = SVC(kernel ='linear')\n",
        "accuracies_svc_tfid = cross_val_score(classifier_svc_tfid, X=x_train_tfid,y=y_train,cv=10)\n",
        "print(\"Accuracy: {:.2f} %\".format(accuracies_svc_tfid.mean()*100))\n",
        "print(\"Standard Deviation: {:.2f} %\".format(accuracies_svc_tfid.std()*100))"
      ]
    },
    {
      "cell_type": "code",
      "execution_count": null,
      "metadata": {
        "id": "LffEq6__gGt2",
        "colab": {
          "base_uri": "https://localhost:8080/"
        },
        "outputId": "63410480-476b-4a1d-b84c-05c55af083bf"
      },
      "outputs": [
        {
          "output_type": "execute_result",
          "data": {
            "text/plain": [
              "array([0, 1, 2, 1, 0, 1, 3, 1, 2, 1, 4, 0, 0, 2, 0, 4, 4, 2, 3, 4, 3, 3,\n",
              "       4, 2, 2, 0, 2, 0, 1, 3, 2, 3, 4, 4, 0, 1, 2, 2, 4, 4, 1, 2, 2, 3,\n",
              "       3, 2, 2, 1, 4, 3, 0, 4, 4, 3, 2, 4, 3, 2, 1, 4, 3, 3, 2, 3, 2, 0,\n",
              "       1, 3, 3, 4, 0, 3, 1, 3, 3, 2, 3, 0, 2, 4, 3, 4, 4, 3, 1, 0, 3, 2,\n",
              "       2, 0, 1, 4, 2, 4, 2, 1, 2, 0, 1, 4, 1, 2, 4, 2, 2, 1, 4, 2, 0, 4,\n",
              "       4, 0, 4, 2, 1, 3, 1, 2, 2, 1, 4, 1, 3, 2, 2, 1, 4, 1, 1, 2, 4, 1,\n",
              "       4, 0, 2, 0, 1, 4, 1, 4, 1, 1, 1, 4, 3, 1, 0, 4, 3, 2, 2, 4, 4, 4,\n",
              "       0, 4, 3, 0, 3, 2, 1, 0, 1, 1, 1, 0, 1, 4, 3, 0, 3, 3, 0, 2, 3, 4,\n",
              "       4, 4, 3, 0, 4, 3, 2, 4, 4, 2, 4, 1, 2, 0, 1, 4, 0, 1, 3, 2, 2, 0,\n",
              "       3, 3])"
            ]
          },
          "metadata": {},
          "execution_count": 18
        }
      ],
      "source": [
        "classifier_svc_tfid = SVC(kernel ='linear')\n",
        "classifier_svc_tfid.fit(x_train_tfid,y_train)\n",
        "y_pred_svc_tfid = classifier_svc_tfid.predict(x_test_tfid)\n",
        "y_pred_svc_tfid"
      ]
    },
    {
      "cell_type": "code",
      "execution_count": null,
      "metadata": {
        "colab": {
          "base_uri": "https://localhost:8080/"
        },
        "id": "2-xH5eKygE1l",
        "outputId": "679ab640-c276-48f1-9ec2-bc55809d36f8"
      },
      "outputs": [
        {
          "output_type": "stream",
          "name": "stdout",
          "text": [
            "[[30  1  0  0  0]\n",
            " [ 0 39  0  0  0]\n",
            " [ 0  0 45  0  0]\n",
            " [ 0  0  0 38  0]\n",
            " [ 0  0  0  0 47]]\n"
          ]
        },
        {
          "output_type": "execute_result",
          "data": {
            "text/plain": [
              "0.995"
            ]
          },
          "metadata": {},
          "execution_count": 19
        }
      ],
      "source": [
        "cm_svc_tfid = confusion_matrix(y_test,y_pred_svc_tfid)\n",
        "print(cm_svc_tfid)\n",
        "accuracy_svc_tfid=accuracy_score(y_test,y_pred_svc_tfid)\n",
        "accuracy_svc_tfid"
      ]
    },
    {
      "cell_type": "markdown",
      "metadata": {
        "id": "hFB1vHUey0qS"
      },
      "source": [
        "##KNN model"
      ]
    },
    {
      "cell_type": "markdown",
      "metadata": {
        "id": "c82MYYAAy-Hk"
      },
      "source": [
        "1.BOW"
      ]
    },
    {
      "cell_type": "code",
      "execution_count": null,
      "metadata": {
        "id": "Qkj3W3QOy3WB",
        "colab": {
          "base_uri": "https://localhost:8080/"
        },
        "outputId": "32e18f76-263f-4542-b0f8-c1cd6ff4793b"
      },
      "outputs": [
        {
          "output_type": "stream",
          "name": "stdout",
          "text": [
            "Accuracy: 84.25 %\n",
            "Standard Deviation: 3.41 %\n"
          ]
        }
      ],
      "source": [
        "from sklearn.neighbors import KNeighborsClassifier\n",
        "classifier_knn_bow = KNeighborsClassifier(n_neighbors =50, metric='minkowski', p=2)\n",
        "accuracies_knn_bow = cross_val_score(classifier_knn_bow, X=x_train_bow,y=y_train,cv=10)\n",
        "print(\"Accuracy: {:.2f} %\".format(accuracies_knn_bow.mean()*100))\n",
        "print(\"Standard Deviation: {:.2f} %\".format(accuracies_knn_bow.std()*100))"
      ]
    },
    {
      "cell_type": "code",
      "execution_count": null,
      "metadata": {
        "id": "IFxporLqzImd"
      },
      "outputs": [],
      "source": [
        "classifier_knn_bow.fit(x_train_bow,y_train)\n",
        "y_pred_knn_bow = classifier_knn_bow.predict(x_test_bow)"
      ]
    },
    {
      "cell_type": "code",
      "execution_count": null,
      "metadata": {
        "id": "xb37rC-rzMjO",
        "colab": {
          "base_uri": "https://localhost:8080/"
        },
        "outputId": "1e9a691a-0439-4a9d-903b-6d38b77933a7"
      },
      "outputs": [
        {
          "output_type": "stream",
          "name": "stdout",
          "text": [
            "[[31  0  0  0  0]\n",
            " [ 4 34  0  1  0]\n",
            " [ 6  3 35  1  0]\n",
            " [ 6  2  0 30  0]\n",
            " [ 4  0  0  0 43]]\n"
          ]
        },
        {
          "output_type": "execute_result",
          "data": {
            "text/plain": [
              "0.865"
            ]
          },
          "metadata": {},
          "execution_count": 22
        }
      ],
      "source": [
        "cm_knn_bow = confusion_matrix(y_test,y_pred_knn_bow)\n",
        "print(cm_knn_bow)\n",
        "accuracy_knn_bow=accuracy_score(y_test,y_pred_knn_bow)\n",
        "accuracy_knn_bow"
      ]
    },
    {
      "cell_type": "markdown",
      "metadata": {
        "id": "WRdBDhg8zr-T"
      },
      "source": [
        "2.TFID"
      ]
    },
    {
      "cell_type": "code",
      "execution_count": null,
      "metadata": {
        "id": "OdCNREJUztjJ",
        "colab": {
          "base_uri": "https://localhost:8080/"
        },
        "outputId": "75b1011e-c7de-47d7-b2cc-610e438cf42c"
      },
      "outputs": [
        {
          "output_type": "stream",
          "name": "stdout",
          "text": [
            "Accuracy: 94.50 %\n",
            "Standard Deviation: 2.25 %\n"
          ]
        }
      ],
      "source": [
        "classifier_knn_tfid = KNeighborsClassifier(n_neighbors =50, metric='minkowski', p=2)\n",
        "accuracies_knn_tfid = cross_val_score(classifier_knn_tfid, X=x_train_tfid,y=y_train,cv=10)\n",
        "print(\"Accuracy: {:.2f} %\".format(accuracies_knn_tfid.mean()*100))\n",
        "print(\"Standard Deviation: {:.2f} %\".format(accuracies_knn_tfid.std()*100))"
      ]
    },
    {
      "cell_type": "code",
      "execution_count": null,
      "metadata": {
        "id": "jh7ZPEH8z2gu"
      },
      "outputs": [],
      "source": [
        "classifier_knn_tfid.fit(x_train_tfid,y_train)\n",
        "y_pred_knn_tfid = classifier_knn_tfid.predict(x_test_tfid)"
      ]
    },
    {
      "cell_type": "code",
      "execution_count": null,
      "metadata": {
        "colab": {
          "base_uri": "https://localhost:8080/"
        },
        "id": "HNMFpmPO0A5N",
        "outputId": "26f53bed-7044-445b-a70d-39d1ff1fd623"
      },
      "outputs": [
        {
          "output_type": "stream",
          "name": "stdout",
          "text": [
            "[[31  0  0  0  0]\n",
            " [ 2 37  0  0  0]\n",
            " [ 0  1 44  0  0]\n",
            " [ 0  0  3 34  1]\n",
            " [ 0  0  0  0 47]]\n"
          ]
        },
        {
          "output_type": "execute_result",
          "data": {
            "text/plain": [
              "0.965"
            ]
          },
          "metadata": {},
          "execution_count": 25
        }
      ],
      "source": [
        "cm_knn_tfid = confusion_matrix(y_test,y_pred_knn_tfid)\n",
        "print(cm_knn_tfid)\n",
        "accuracy_knn_tfid=accuracy_score(y_test,y_pred_knn_tfid)\n",
        "accuracy_knn_tfid"
      ]
    },
    {
      "cell_type": "markdown",
      "metadata": {
        "id": "bYnARXMn0KDt"
      },
      "source": [
        "##Decision tree model"
      ]
    },
    {
      "cell_type": "markdown",
      "metadata": {
        "id": "Fem-Aiai0V5g"
      },
      "source": [
        "1.BOW"
      ]
    },
    {
      "cell_type": "code",
      "execution_count": null,
      "metadata": {
        "colab": {
          "base_uri": "https://localhost:8080/"
        },
        "id": "Xm6nYqG90TnX",
        "outputId": "2820cac1-025f-4e49-d55c-550b9e38359a"
      },
      "outputs": [
        {
          "output_type": "stream",
          "name": "stdout",
          "text": [
            "Accuracy: 72.38 %\n",
            "Standard Deviation: 5.35 %\n"
          ]
        }
      ],
      "source": [
        "from sklearn.tree import DecisionTreeClassifier\n",
        "classifier_dt_bow = DecisionTreeClassifier(random_state =0)\n",
        "accuracies_dt_bow = cross_val_score(classifier_dt_bow, X=x_train_bow,y=y_train,cv=10)\n",
        "print(\"Accuracy: {:.2f} %\".format(accuracies_dt_bow.mean()*100))\n",
        "print(\"Standard Deviation: {:.2f} %\".format(accuracies_dt_bow.std()*100))"
      ]
    },
    {
      "cell_type": "code",
      "execution_count": null,
      "metadata": {
        "id": "2s_UI1vH0hjk"
      },
      "outputs": [],
      "source": [
        "classifier_dt_bow.fit(x_train_bow,y_train)\n",
        "y_pred_dt_bow = classifier_dt_bow.predict(x_test_bow)"
      ]
    },
    {
      "cell_type": "code",
      "execution_count": null,
      "metadata": {
        "id": "o-sBAw3k0qLB",
        "colab": {
          "base_uri": "https://localhost:8080/"
        },
        "outputId": "9fd2eaa1-2cf6-44ce-fc81-6334df68abdf"
      },
      "outputs": [
        {
          "output_type": "stream",
          "name": "stdout",
          "text": [
            "[[18  5  2  5  1]\n",
            " [ 4 30  2  2  1]\n",
            " [ 3  8 30  4  0]\n",
            " [ 0  4  8 22  4]\n",
            " [ 0  1  0  2 44]]\n"
          ]
        },
        {
          "output_type": "execute_result",
          "data": {
            "text/plain": [
              "0.72"
            ]
          },
          "metadata": {},
          "execution_count": 28
        }
      ],
      "source": [
        "cm_dt_bow = confusion_matrix(y_test,y_pred_dt_bow)\n",
        "print(cm_dt_bow)\n",
        "accuracy_dt_bow=accuracy_score(y_test,y_pred_dt_bow)\n",
        "accuracy_dt_bow"
      ]
    },
    {
      "cell_type": "markdown",
      "metadata": {
        "id": "qBMkFtrn0wLm"
      },
      "source": [
        "2.TFID"
      ]
    },
    {
      "cell_type": "code",
      "execution_count": null,
      "metadata": {
        "id": "sh2ypv5p0xcD",
        "colab": {
          "base_uri": "https://localhost:8080/"
        },
        "outputId": "714587d0-28c7-4230-d371-2e9454794ef8"
      },
      "outputs": [
        {
          "output_type": "stream",
          "name": "stdout",
          "text": [
            "Accuracy: 70.00 %\n",
            "Standard Deviation: 5.70 %\n"
          ]
        }
      ],
      "source": [
        "classifier_dt_tfid = DecisionTreeClassifier(random_state =0)\n",
        "accuracies_dt_tfid = cross_val_score(classifier_dt_tfid, X=x_train_tfid,y=y_train,cv=10)\n",
        "print(\"Accuracy: {:.2f} %\".format(accuracies_dt_tfid.mean()*100))\n",
        "print(\"Standard Deviation: {:.2f} %\".format(accuracies_dt_tfid.std()*100))"
      ]
    },
    {
      "cell_type": "code",
      "execution_count": null,
      "metadata": {
        "id": "G_UzfJED05a7"
      },
      "outputs": [],
      "source": [
        "classifier_dt_tfid.fit(x_train_tfid,y_train)\n",
        "y_pred_dt_tfid = classifier_dt_tfid.predict(x_test_tfid)"
      ]
    },
    {
      "cell_type": "code",
      "execution_count": null,
      "metadata": {
        "id": "lt1OJiI21A-W",
        "colab": {
          "base_uri": "https://localhost:8080/"
        },
        "outputId": "9f32f111-cb63-49d3-8f23-d70e0cf8c385"
      },
      "outputs": [
        {
          "output_type": "stream",
          "name": "stdout",
          "text": [
            "[[16  4  9  0  2]\n",
            " [ 2 26  8  3  0]\n",
            " [ 3  7 30  4  1]\n",
            " [ 1  6  7 20  4]\n",
            " [ 1  1  0  0 45]]\n"
          ]
        },
        {
          "output_type": "execute_result",
          "data": {
            "text/plain": [
              "0.685"
            ]
          },
          "metadata": {},
          "execution_count": 31
        }
      ],
      "source": [
        "cm_dt_tfid = confusion_matrix(y_test,y_pred_dt_tfid)\n",
        "print(cm_dt_tfid)\n",
        "accuracy_dt_tfid=accuracy_score(y_test,y_pred_dt_tfid)\n",
        "accuracy_dt_tfid"
      ]
    },
    {
      "cell_type": "markdown",
      "metadata": {
        "id": "9wfvxmrzNmBX"
      },
      "source": [
        "## Visualization"
      ]
    },
    {
      "cell_type": "code",
      "execution_count": null,
      "metadata": {
        "id": "nzUuIa3IoFym",
        "colab": {
          "base_uri": "https://localhost:8080/",
          "height": 272
        },
        "outputId": "237f3f78-b034-4819-cfae-8585af50b4c9"
      },
      "outputs": [
        {
          "output_type": "stream",
          "name": "stderr",
          "text": [
            "/usr/local/lib/python3.7/dist-packages/ipykernel_launcher.py:5: FutureWarning: In a future version of pandas all arguments of concat except for the argument 'objs' will be keyword-only\n",
            "  \"\"\"\n"
          ]
        },
        {
          "output_type": "execute_result",
          "data": {
            "text/plain": [
              "     Models  Accuracy\n",
              "0   SVM_BOW    98.500\n",
              "1  SVM_TFID    96.875\n",
              "2   KNN_BOW    84.250\n",
              "3  KNN_TFID    94.500\n",
              "4    DT_BOW    72.000\n",
              "5   DT_TFID    70.000"
            ],
            "text/html": [
              "\n",
              "  <div id=\"df-8190cb38-f296-4ca4-a19f-4ae06907583b\">\n",
              "    <div class=\"colab-df-container\">\n",
              "      <div>\n",
              "<style scoped>\n",
              "    .dataframe tbody tr th:only-of-type {\n",
              "        vertical-align: middle;\n",
              "    }\n",
              "\n",
              "    .dataframe tbody tr th {\n",
              "        vertical-align: top;\n",
              "    }\n",
              "\n",
              "    .dataframe thead th {\n",
              "        text-align: right;\n",
              "    }\n",
              "</style>\n",
              "<table border=\"1\" class=\"dataframe\">\n",
              "  <thead>\n",
              "    <tr style=\"text-align: right;\">\n",
              "      <th></th>\n",
              "      <th>Models</th>\n",
              "      <th>Accuracy</th>\n",
              "    </tr>\n",
              "  </thead>\n",
              "  <tbody>\n",
              "    <tr>\n",
              "      <th>0</th>\n",
              "      <td>SVM_BOW</td>\n",
              "      <td>98.500</td>\n",
              "    </tr>\n",
              "    <tr>\n",
              "      <th>1</th>\n",
              "      <td>SVM_TFID</td>\n",
              "      <td>96.875</td>\n",
              "    </tr>\n",
              "    <tr>\n",
              "      <th>2</th>\n",
              "      <td>KNN_BOW</td>\n",
              "      <td>84.250</td>\n",
              "    </tr>\n",
              "    <tr>\n",
              "      <th>3</th>\n",
              "      <td>KNN_TFID</td>\n",
              "      <td>94.500</td>\n",
              "    </tr>\n",
              "    <tr>\n",
              "      <th>4</th>\n",
              "      <td>DT_BOW</td>\n",
              "      <td>72.000</td>\n",
              "    </tr>\n",
              "    <tr>\n",
              "      <th>5</th>\n",
              "      <td>DT_TFID</td>\n",
              "      <td>70.000</td>\n",
              "    </tr>\n",
              "  </tbody>\n",
              "</table>\n",
              "</div>\n",
              "      <button class=\"colab-df-convert\" onclick=\"convertToInteractive('df-8190cb38-f296-4ca4-a19f-4ae06907583b')\"\n",
              "              title=\"Convert this dataframe to an interactive table.\"\n",
              "              style=\"display:none;\">\n",
              "        \n",
              "  <svg xmlns=\"http://www.w3.org/2000/svg\" height=\"24px\"viewBox=\"0 0 24 24\"\n",
              "       width=\"24px\">\n",
              "    <path d=\"M0 0h24v24H0V0z\" fill=\"none\"/>\n",
              "    <path d=\"M18.56 5.44l.94 2.06.94-2.06 2.06-.94-2.06-.94-.94-2.06-.94 2.06-2.06.94zm-11 1L8.5 8.5l.94-2.06 2.06-.94-2.06-.94L8.5 2.5l-.94 2.06-2.06.94zm10 10l.94 2.06.94-2.06 2.06-.94-2.06-.94-.94-2.06-.94 2.06-2.06.94z\"/><path d=\"M17.41 7.96l-1.37-1.37c-.4-.4-.92-.59-1.43-.59-.52 0-1.04.2-1.43.59L10.3 9.45l-7.72 7.72c-.78.78-.78 2.05 0 2.83L4 21.41c.39.39.9.59 1.41.59.51 0 1.02-.2 1.41-.59l7.78-7.78 2.81-2.81c.8-.78.8-2.07 0-2.86zM5.41 20L4 18.59l7.72-7.72 1.47 1.35L5.41 20z\"/>\n",
              "  </svg>\n",
              "      </button>\n",
              "      \n",
              "  <style>\n",
              "    .colab-df-container {\n",
              "      display:flex;\n",
              "      flex-wrap:wrap;\n",
              "      gap: 12px;\n",
              "    }\n",
              "\n",
              "    .colab-df-convert {\n",
              "      background-color: #E8F0FE;\n",
              "      border: none;\n",
              "      border-radius: 50%;\n",
              "      cursor: pointer;\n",
              "      display: none;\n",
              "      fill: #1967D2;\n",
              "      height: 32px;\n",
              "      padding: 0 0 0 0;\n",
              "      width: 32px;\n",
              "    }\n",
              "\n",
              "    .colab-df-convert:hover {\n",
              "      background-color: #E2EBFA;\n",
              "      box-shadow: 0px 1px 2px rgba(60, 64, 67, 0.3), 0px 1px 3px 1px rgba(60, 64, 67, 0.15);\n",
              "      fill: #174EA6;\n",
              "    }\n",
              "\n",
              "    [theme=dark] .colab-df-convert {\n",
              "      background-color: #3B4455;\n",
              "      fill: #D2E3FC;\n",
              "    }\n",
              "\n",
              "    [theme=dark] .colab-df-convert:hover {\n",
              "      background-color: #434B5C;\n",
              "      box-shadow: 0px 1px 3px 1px rgba(0, 0, 0, 0.15);\n",
              "      filter: drop-shadow(0px 1px 2px rgba(0, 0, 0, 0.3));\n",
              "      fill: #FFFFFF;\n",
              "    }\n",
              "  </style>\n",
              "\n",
              "      <script>\n",
              "        const buttonEl =\n",
              "          document.querySelector('#df-8190cb38-f296-4ca4-a19f-4ae06907583b button.colab-df-convert');\n",
              "        buttonEl.style.display =\n",
              "          google.colab.kernel.accessAllowed ? 'block' : 'none';\n",
              "\n",
              "        async function convertToInteractive(key) {\n",
              "          const element = document.querySelector('#df-8190cb38-f296-4ca4-a19f-4ae06907583b');\n",
              "          const dataTable =\n",
              "            await google.colab.kernel.invokeFunction('convertToInteractive',\n",
              "                                                     [key], {});\n",
              "          if (!dataTable) return;\n",
              "\n",
              "          const docLinkHtml = 'Like what you see? Visit the ' +\n",
              "            '<a target=\"_blank\" href=https://colab.research.google.com/notebooks/data_table.ipynb>data table notebook</a>'\n",
              "            + ' to learn more about interactive tables.';\n",
              "          element.innerHTML = '';\n",
              "          dataTable['output_type'] = 'display_data';\n",
              "          await google.colab.output.renderOutput(dataTable, element);\n",
              "          const docLink = document.createElement('div');\n",
              "          docLink.innerHTML = docLinkHtml;\n",
              "          element.appendChild(docLink);\n",
              "        }\n",
              "      </script>\n",
              "    </div>\n",
              "  </div>\n",
              "  "
            ]
          },
          "metadata": {},
          "execution_count": 32
        }
      ],
      "source": [
        "y=np.array([accuracy_svc_bow.mean(),accuracies_svc_tfid.mean(),accuracies_knn_bow.mean(),accuracies_knn_tfid.mean(),accuracy_dt_bow.mean(),accuracies_dt_tfid.mean()])*100\n",
        "y=pd.Series(y)\n",
        "x=['SVM_BOW','SVM_TFID','KNN_BOW','KNN_TFID','DT_BOW','DT_TFID']\n",
        "x=pd.Series(x)\n",
        "result = pd.concat([x,y],1)\n",
        "result.rename(columns={0:'Models',1:'Accuracy'},inplace=True)\n",
        "result"
      ]
    },
    {
      "cell_type": "code",
      "execution_count": null,
      "metadata": {
        "id": "j6xhazCgNpXc",
        "colab": {
          "base_uri": "https://localhost:8080/",
          "height": 368
        },
        "outputId": "8bc6acd3-449c-49b9-9a0b-58ba604a4d9d"
      },
      "outputs": [
        {
          "output_type": "execute_result",
          "data": {
            "text/plain": [
              "Text(0.5, 1.0, 'Accuracy of each model')"
            ]
          },
          "metadata": {},
          "execution_count": 60
        },
        {
          "output_type": "display_data",
          "data": {
            "text/plain": [
              "<Figure size 504x360 with 1 Axes>"
            ],
            "image/png": "[encoded data removed]"
          },
          "metadata": {
            "needs_background": "light"
          }
        }
      ],
      "source": [
        "from IPython.core.pylabtools import figsize\n",
        "figsize(7,5)\n",
        "sns.barplot(x=result['Models'],y=result['Accuracy'],data=result,palette='flare')\n",
        "plt.ylim(65, 100)\n",
        "plt.title(\"Accuracy of each model\")"
      ]
    },
    {
      "cell_type": "code",
      "execution_count": null,
      "metadata": {
        "id": "InqA85ak2kDo",
        "colab": {
          "base_uri": "https://localhost:8080/",
          "height": 367
        },
        "outputId": "8ce238ac-fdb7-47ee-adbc-0570ead12bd3"
      },
      "outputs": [
        {
          "output_type": "execute_result",
          "data": {
            "text/plain": [
              "Text(0.5, 1.0, 'Most common words in Gallipoli Diary book')"
            ]
          },
          "metadata": {},
          "execution_count": 61
        },
        {
          "output_type": "display_data",
          "data": {
            "text/plain": [
              "<Figure size 1440x360 with 1 Axes>"
            ],
            "image/png": "[encoded data removed]"
          },
          "metadata": {
            "needs_background": "light"
          }
        }
      ],
      "source": [
        "from collections import Counter\n",
        "book0=[data.iloc[i,1] for i in range(len(data)) if data.iloc[i,0]=='Gallipoli Diary']\n",
        "book0=str(book0)\n",
        "book0 = book0.split(\" \")\n",
        "book0 = Counter(book0).most_common(20)\n",
        "book0 = pd.DataFrame(book0,columns=['words','frequent'])\n",
        "figsize(20,5)\n",
        "sns.barplot(x= 'words',y= 'frequent', data = book0, palette='flare')\n",
        "plt.title(\"Most common words in Gallipoli Diary book\")"
      ]
    },
    {
      "cell_type": "code",
      "source": [
        "book1=[data.iloc[i,1] for i in range(len(data)) if data.iloc[i,0]=='Greenmantle']\n",
        "book1=str(book1)\n",
        "book1 = book1.split(\" \")\n",
        "book1 = Counter(book1).most_common(20)\n",
        "book1 = pd.DataFrame(book1,columns=['words','frequent'])\n",
        "figsize(20,5)\n",
        "sns.barplot(x= 'words',y= 'frequent', data = book1, palette='flare')\n",
        "plt.title(\"Most common words in Greenmantle book\")"
      ],
      "metadata": {
        "colab": {
          "base_uri": "https://localhost:8080/",
          "height": 367
        },
        "id": "d2A-IHEkShUO",
        "outputId": "eb21d9e0-514d-48a9-d381-83ad62b0c7d0"
      },
      "execution_count": null,
      "outputs": [
        {
          "output_type": "execute_result",
          "data": {
            "text/plain": [
              "Text(0.5, 1.0, 'Most common words in Greenmantle book')"
            ]
          },
          "metadata": {},
          "execution_count": 62
        },
        {
          "output_type": "display_data",
          "data": {
            "text/plain": [
              "<Figure size 1440x360 with 1 Axes>"
            ],
            "image/png": "[encoded data removed]"
          },
          "metadata": {
            "needs_background": "light"
          }
        }
      ]
    },
    {
      "cell_type": "code",
      "source": [
        "book2=[data.iloc[i,1] for i in range(len(data)) if data.iloc[i,0]=='Now It Can Be Told']\n",
        "book2=str(book2)\n",
        "book2 = book2.split(\" \")\n",
        "book2 = Counter(book2).most_common(20)\n",
        "book2 = pd.DataFrame(book2,columns=['words','frequent'])\n",
        "figsize(20,5)\n",
        "sns.barplot(x= 'words',y= 'frequent', data = book2, palette='flare')\n",
        "plt.title(\"Most common words in Now It Can Be Told book\")"
      ],
      "metadata": {
        "id": "sYzFJbMlSkGj",
        "colab": {
          "base_uri": "https://localhost:8080/",
          "height": 367
        },
        "outputId": "7581af1a-f556-444a-92e4-db7540482031"
      },
      "execution_count": null,
      "outputs": [
        {
          "output_type": "execute_result",
          "data": {
            "text/plain": [
              "Text(0.5, 1.0, 'Most common words in Now It Can Be Told book')"
            ]
          },
          "metadata": {},
          "execution_count": 63
        },
        {
          "output_type": "display_data",
          "data": {
            "text/plain": [
              "<Figure size 1440x360 with 1 Axes>"
            ],
            "image/png": "[encoded data removed]"
          },
          "metadata": {
            "needs_background": "light"
          }
        }
      ]
    },
    {
      "cell_type": "code",
      "source": [
        "book3=[data.iloc[i,1] for i in range(len(data)) if data.iloc[i,0]=='The Four Horsemen of the Apocalypse']\n",
        "book3=str(book3)\n",
        "book3 = book3.split(\" \")\n",
        "book3 = Counter(book3).most_common(20)\n",
        "book3 = pd.DataFrame(book3,columns=['words','frequent'])\n",
        "figsize(20,5)\n",
        "sns.barplot(x= 'words',y= 'frequent', data = book3, palette='flare')\n",
        "plt.title(\"Most common words in The Four Horsemen of the Apocalypse book\")"
      ],
      "metadata": {
        "id": "7bpUN5nDS76_",
        "colab": {
          "base_uri": "https://localhost:8080/",
          "height": 367
        },
        "outputId": "40550ef5-8dc0-4446-c181-353c6244c3ad"
      },
      "execution_count": null,
      "outputs": [
        {
          "output_type": "execute_result",
          "data": {
            "text/plain": [
              "Text(0.5, 1.0, 'Most common words in The Four Horsemen of the Apocalypse book')"
            ]
          },
          "metadata": {},
          "execution_count": 64
        },
        {
          "output_type": "display_data",
          "data": {
            "text/plain": [
              "<Figure size 1440x360 with 1 Axes>"
            ],
            "image/png": "[encoded data removed]"
          },
          "metadata": {
            "needs_background": "light"
          }
        }
      ]
    },
    {
      "cell_type": "code",
      "source": [
        "book4=[data.iloc[i,1] for i in range(len(data)) if data.iloc[i,0]=='The Peace Negotiations']\n",
        "book4=str(book4)\n",
        "book4 = book4.split(\" \")\n",
        "book4 = Counter(book4).most_common(20)\n",
        "book4 = pd.DataFrame(book4,columns=['words','frequent'])\n",
        "figsize(20,5)\n",
        "sns.barplot(x= 'words',y= 'frequent', data = book4, palette='flare')\n",
        "plt.title(\"Most common words in The Peace Negotiations book\")"
      ],
      "metadata": {
        "id": "x6h0ZWfFTKB9",
        "colab": {
          "base_uri": "https://localhost:8080/",
          "height": 367
        },
        "outputId": "6fbd281c-54df-4d06-ccc9-783ba6932c26"
      },
      "execution_count": null,
      "outputs": [
        {
          "output_type": "execute_result",
          "data": {
            "text/plain": [
              "Text(0.5, 1.0, 'Most common words in The Peace Negotiations book')"
            ]
          },
          "metadata": {},
          "execution_count": 65
        },
        {
          "output_type": "display_data",
          "data": {
            "text/plain": [
              "<Figure size 1440x360 with 1 Axes>"
            ],
            "image/png": "[encoded data removed]"
          },
          "metadata": {
            "needs_background": "light"
          }
        }
      ]
    },
    {
      "cell_type": "code",
      "execution_count": null,
      "metadata": {
        "id": "bRZSjvx5tg5Y"
      },
      "outputs": [],
      "source": [
        "from sklearn.model_selection import learning_curve\n",
        "train_sizes_svc_tfid,train_scores_svc_tfid,test_scores_svc_tfid =learning_curve(classifier_svc_tfid,x_train_tfid,y_train,cv=10,scoring='accuracy')"
      ]
    },
    {
      "cell_type": "code",
      "execution_count": null,
      "metadata": {
        "id": "WlbNLnkXuyzF"
      },
      "outputs": [],
      "source": [
        "train_mean_svc_tfid=np.mean(train_scores_svc_tfid,axis=1)\n",
        "train_std_svc_tfid=np.std(train_scores_svc_tfid,axis=1)\n",
        "test_mean_svc_tfid=np.mean(test_scores_svc_tfid,axis=1)\n",
        "test_std_svc_tfid=np.std(test_scores_svc_tfid,axis=1)"
      ]
    },
    {
      "cell_type": "code",
      "execution_count": null,
      "metadata": {
        "id": "wcO0ue88vwLc",
        "colab": {
          "base_uri": "https://localhost:8080/",
          "height": 367
        },
        "outputId": "cb1e7305-86c8-442d-e6ee-c0b8063ab3d5"
      },
      "outputs": [
        {
          "output_type": "execute_result",
          "data": {
            "text/plain": [
              "<matplotlib.legend.Legend at 0x7f2d81cee410>"
            ]
          },
          "metadata": {},
          "execution_count": 41
        },
        {
          "output_type": "display_data",
          "data": {
            "text/plain": [
              "<Figure size 504x360 with 1 Axes>"
            ],
            "image/png": "[encoded data removed]"
          },
          "metadata": {
            "needs_background": "light"
          }
        }
      ],
      "source": [
        "figsize(7,5)\n",
        "plt.plot(train_sizes_svc_tfid,train_mean_svc_tfid,'--',label=\"Training score\")\n",
        "plt.plot(train_sizes_svc_tfid,test_mean_svc_tfid,label=\"Cross-validation score\")\n",
        "plt.title(\"Learning curve\")\n",
        "plt.xlabel(\"Training size\")\n",
        "plt.ylabel(\"Accuracy score\")\n",
        "plt.legend(loc=\"best\")"
      ]
    },
    {
      "cell_type": "markdown",
      "metadata": {
        "id": "M5HE8xP1X4ld"
      },
      "source": [
        "## Error analysis"
      ]
    },
    {
      "cell_type": "code",
      "execution_count": null,
      "metadata": {
        "id": "H0nVOR4HX7eW",
        "colab": {
          "base_uri": "https://localhost:8080/",
          "height": 560
        },
        "outputId": "cf71cfc9-91f0-4be3-d9b5-ccd01586f0d0"
      },
      "outputs": [
        {
          "output_type": "stream",
          "name": "stdout",
          "text": [
            "              precision    recall  f1-score   support\n",
            "\n",
            "           0       1.00      0.97      0.98        31\n",
            "           1       0.97      1.00      0.99        39\n",
            "           2       1.00      1.00      1.00        45\n",
            "           3       1.00      1.00      1.00        38\n",
            "           4       1.00      1.00      1.00        47\n",
            "\n",
            "    accuracy                           0.99       200\n",
            "   macro avg       0.99      0.99      0.99       200\n",
            "weighted avg       1.00      0.99      0.99       200\n",
            "\n"
          ]
        },
        {
          "output_type": "execute_result",
          "data": {
            "text/plain": [
              "<sklearn.metrics._plot.confusion_matrix.ConfusionMatrixDisplay at 0x7f2d84e0f310>"
            ]
          },
          "metadata": {},
          "execution_count": 42
        },
        {
          "output_type": "display_data",
          "data": {
            "text/plain": [
              "<Figure size 504x360 with 2 Axes>"
            ],
            "image/png": "[encoded data removed]"
          },
          "metadata": {
            "needs_background": "light"
          }
        }
      ],
      "source": [
        "from sklearn.metrics import classification_report,ConfusionMatrixDisplay\n",
        "cr_svc_tfid = classification_report(y_test,y_pred_svc_tfid)\n",
        "print(cr_svc_tfid)\n",
        "disp = ConfusionMatrixDisplay(confusion_matrix =cm_svc_tfid, display_labels = classifier_svc_tfid.classes_ )\n",
        "disp.plot()"
      ]
    },
    {
      "cell_type": "code",
      "execution_count": null,
      "metadata": {
        "id": "jksi8jRUaC2K",
        "colab": {
          "base_uri": "https://localhost:8080/"
        },
        "outputId": "0d637c31-aa5e-4918-e52c-bd97618639ee"
      },
      "outputs": [
        {
          "output_type": "execute_result",
          "data": {
            "text/plain": [
              "array([0.9625, 0.975 , 0.975 , 0.9375, 0.9875, 0.95  , 0.975 , 0.9625,\n",
              "       0.9875, 0.975 ])"
            ]
          },
          "metadata": {},
          "execution_count": 43
        }
      ],
      "source": [
        "accuracies_svc_tfid"
      ]
    },
    {
      "cell_type": "code",
      "execution_count": null,
      "metadata": {
        "id": "B2XUWlS6s5he",
        "colab": {
          "base_uri": "https://localhost:8080/"
        },
        "outputId": "908ce5e0-be0e-4c1b-c9dc-ab0d86e32812"
      },
      "outputs": [
        {
          "output_type": "stream",
          "name": "stdout",
          "text": [
            " Variance: 1.96 \n",
            "Bias: 382.24\n"
          ]
        }
      ],
      "source": [
        "variance = np.var(y_pred_knn_tfid)\n",
        "SSE = np.sum((np.mean(y_pred_svc_tfid)-y_test)**2)\n",
        "bias =SSE - variance\n",
        "print(\" Variance: {:.2f} \".format(variance))\n",
        "print(\"Bias: {:.2f}\".format(bias))"
      ]
    },
    {
      "cell_type": "code",
      "execution_count": null,
      "metadata": {
        "id": "mcQlAzxXBLx1",
        "colab": {
          "base_uri": "https://localhost:8080/"
        },
        "outputId": "1715edc2-e9fa-462f-e44c-393d8036edff"
      },
      "outputs": [
        {
          "output_type": "execute_result",
          "data": {
            "text/plain": [
              "array([[0, 0],\n",
              "       [1, 1],\n",
              "       [2, 2],\n",
              "       [1, 1],\n",
              "       [0, 0],\n",
              "       [1, 1],\n",
              "       [3, 3],\n",
              "       [1, 1],\n",
              "       [2, 2],\n",
              "       [1, 1],\n",
              "       [4, 4],\n",
              "       [0, 0],\n",
              "       [0, 0],\n",
              "       [2, 2],\n",
              "       [0, 0],\n",
              "       [4, 4],\n",
              "       [4, 4],\n",
              "       [2, 2],\n",
              "       [3, 3],\n",
              "       [4, 4],\n",
              "       [3, 3],\n",
              "       [3, 3],\n",
              "       [4, 4],\n",
              "       [2, 2],\n",
              "       [2, 2],\n",
              "       [0, 0],\n",
              "       [2, 2],\n",
              "       [0, 0],\n",
              "       [1, 1],\n",
              "       [3, 3],\n",
              "       [2, 2],\n",
              "       [3, 3],\n",
              "       [4, 4],\n",
              "       [4, 4],\n",
              "       [0, 0],\n",
              "       [1, 1],\n",
              "       [2, 2],\n",
              "       [2, 2],\n",
              "       [4, 4],\n",
              "       [4, 4],\n",
              "       [1, 1],\n",
              "       [2, 2],\n",
              "       [2, 2],\n",
              "       [3, 3],\n",
              "       [3, 3],\n",
              "       [2, 2],\n",
              "       [2, 2],\n",
              "       [1, 1],\n",
              "       [4, 4],\n",
              "       [3, 3],\n",
              "       [0, 0],\n",
              "       [4, 4],\n",
              "       [4, 4],\n",
              "       [3, 3],\n",
              "       [2, 2],\n",
              "       [4, 4],\n",
              "       [3, 3],\n",
              "       [2, 2],\n",
              "       [1, 1],\n",
              "       [4, 4],\n",
              "       [3, 3],\n",
              "       [3, 3],\n",
              "       [2, 2],\n",
              "       [3, 3],\n",
              "       [2, 2],\n",
              "       [0, 0],\n",
              "       [1, 1],\n",
              "       [3, 3],\n",
              "       [3, 3],\n",
              "       [4, 4],\n",
              "       [0, 0],\n",
              "       [3, 3],\n",
              "       [1, 1],\n",
              "       [3, 3],\n",
              "       [3, 3],\n",
              "       [2, 2],\n",
              "       [3, 3],\n",
              "       [0, 0],\n",
              "       [2, 2],\n",
              "       [4, 4],\n",
              "       [3, 3],\n",
              "       [4, 4],\n",
              "       [4, 4],\n",
              "       [3, 3],\n",
              "       [1, 1],\n",
              "       [0, 0],\n",
              "       [3, 3],\n",
              "       [2, 2],\n",
              "       [2, 2],\n",
              "       [0, 0],\n",
              "       [1, 1],\n",
              "       [4, 4],\n",
              "       [2, 2],\n",
              "       [4, 4],\n",
              "       [2, 2],\n",
              "       [1, 1],\n",
              "       [2, 2],\n",
              "       [0, 0],\n",
              "       [1, 1],\n",
              "       [4, 4],\n",
              "       [1, 1],\n",
              "       [2, 2],\n",
              "       [4, 4],\n",
              "       [2, 2],\n",
              "       [2, 2],\n",
              "       [1, 1],\n",
              "       [4, 4],\n",
              "       [2, 2],\n",
              "       [0, 0],\n",
              "       [4, 4],\n",
              "       [4, 4],\n",
              "       [0, 0],\n",
              "       [4, 4],\n",
              "       [2, 2],\n",
              "       [1, 1],\n",
              "       [3, 3],\n",
              "       [1, 1],\n",
              "       [2, 2],\n",
              "       [2, 2],\n",
              "       [1, 1],\n",
              "       [4, 4],\n",
              "       [1, 1],\n",
              "       [3, 3],\n",
              "       [2, 2],\n",
              "       [2, 2],\n",
              "       [1, 1],\n",
              "       [4, 4],\n",
              "       [1, 1],\n",
              "       [1, 1],\n",
              "       [2, 2],\n",
              "       [4, 4],\n",
              "       [1, 1],\n",
              "       [4, 4],\n",
              "       [0, 0],\n",
              "       [2, 2],\n",
              "       [0, 0],\n",
              "       [1, 1],\n",
              "       [4, 4],\n",
              "       [1, 1],\n",
              "       [4, 4],\n",
              "       [1, 1],\n",
              "       [1, 1],\n",
              "       [1, 1],\n",
              "       [4, 4],\n",
              "       [3, 3],\n",
              "       [1, 1],\n",
              "       [0, 0],\n",
              "       [4, 4],\n",
              "       [3, 3],\n",
              "       [2, 2],\n",
              "       [2, 2],\n",
              "       [4, 4],\n",
              "       [4, 4],\n",
              "       [4, 4],\n",
              "       [0, 0],\n",
              "       [4, 4],\n",
              "       [3, 3],\n",
              "       [0, 0],\n",
              "       [3, 3],\n",
              "       [2, 2],\n",
              "       [0, 1],\n",
              "       [0, 0],\n",
              "       [1, 1],\n",
              "       [1, 1],\n",
              "       [1, 1],\n",
              "       [0, 0],\n",
              "       [1, 1],\n",
              "       [4, 4],\n",
              "       [3, 3],\n",
              "       [0, 0],\n",
              "       [3, 3],\n",
              "       [3, 3],\n",
              "       [0, 0],\n",
              "       [2, 2],\n",
              "       [3, 3],\n",
              "       [4, 4],\n",
              "       [4, 4],\n",
              "       [4, 4],\n",
              "       [3, 3],\n",
              "       [0, 0],\n",
              "       [4, 4],\n",
              "       [3, 3],\n",
              "       [2, 2],\n",
              "       [4, 4],\n",
              "       [4, 4],\n",
              "       [2, 2],\n",
              "       [4, 4],\n",
              "       [1, 1],\n",
              "       [2, 2],\n",
              "       [0, 0],\n",
              "       [1, 1],\n",
              "       [4, 4],\n",
              "       [0, 0],\n",
              "       [1, 1],\n",
              "       [3, 3],\n",
              "       [2, 2],\n",
              "       [2, 2],\n",
              "       [0, 0],\n",
              "       [3, 3],\n",
              "       [3, 3]])"
            ]
          },
          "metadata": {},
          "execution_count": 45
        }
      ],
      "source": [
        "compare=np.concatenate([y_test.reshape(-1,1),y_pred_svc_tfid.reshape(-1,1)],1)\n",
        "compare"
      ]
    },
    {
      "cell_type": "code",
      "source": [
        "errors = [i for i in range(len(y_pred_svc_tfid)) if y_pred_svc_tfid[i]!=y_test[i]]\n",
        "identify_error = np.array([i for i in compare[errors]])\n",
        "identify_error"
      ],
      "metadata": {
        "id": "B4BgR5kvUjNj",
        "colab": {
          "base_uri": "https://localhost:8080/"
        },
        "outputId": "5edc50f5-a8bd-410a-ddea-b61867822022"
      },
      "execution_count": null,
      "outputs": [
        {
          "output_type": "execute_result",
          "data": {
            "text/plain": [
              "array([[0, 1]])"
            ]
          },
          "metadata": {},
          "execution_count": 46
        }
      ]
    },
    {
      "cell_type": "code",
      "source": [
        "errors"
      ],
      "metadata": {
        "id": "8aDep_vaWUXm",
        "colab": {
          "base_uri": "https://localhost:8080/"
        },
        "outputId": "3c22aa16-ec29-4209-bb78-058f812a31e8"
      },
      "execution_count": null,
      "outputs": [
        {
          "output_type": "execute_result",
          "data": {
            "text/plain": [
              "[160]"
            ]
          },
          "metadata": {},
          "execution_count": 47
        }
      ]
    },
    {
      "cell_type": "code",
      "source": [
        "x_test.iloc[17]"
      ],
      "metadata": {
        "colab": {
          "base_uri": "https://localhost:8080/",
          "height": 70
        },
        "id": "ttD5dAp02jfg",
        "outputId": "ccbd23c7-c364-47bc-d12b-b47f7817e8d8"
      },
      "execution_count": null,
      "outputs": [
        {
          "output_type": "execute_result",
          "data": {
            "text/plain": [
              "'earth faintly visible drifting cloud thick sluggish vapor edge battleground field tawny golden light autumn sun broken tower village church red roof shattered shell fire tree stripped bare leaf wind autumn touched painted clear outline gray blue sky gun invisible one battery massed wide stretch country could located battle searching glass bombardment began seemed though shell came every field village mile back behind line glitter bursting shell stabbed smoke explosion'"
            ],
            "application/vnd.google.colaboratory.intrinsic+json": {
              "type": "string"
            }
          },
          "metadata": {},
          "execution_count": 48
        }
      ]
    },
    {
      "cell_type": "code",
      "source": [
        "df = pd.DataFrame()\n",
        "df[\"Error words\"] = np.array([x_test.iloc[i] for i in errors])\n",
        "df[\"Actual output\"] = identify_error[:,0]\n",
        "df[\"Predicted output\"] = identify_error[:,1]\n",
        "df"
      ],
      "metadata": {
        "id": "HxjlyavwWvup",
        "colab": {
          "base_uri": "https://localhost:8080/",
          "height": 81
        },
        "outputId": "baf87a49-9eec-445a-ace7-5c94aacdabf0"
      },
      "execution_count": null,
      "outputs": [
        {
          "output_type": "execute_result",
          "data": {
            "text/plain": [
              "                                         Error words  Actual output  \\\n",
              "0  never taken place never take place surmise req...              0   \n",
              "\n",
              "   Predicted output  \n",
              "0                 1  "
            ],
            "text/html": [
              "\n",
              "  <div id=\"df-1eafb578-d689-4db0-ac6d-94efa3f280f2\">\n",
              "    <div class=\"colab-df-container\">\n",
              "      <div>\n",
              "<style scoped>\n",
              "    .dataframe tbody tr th:only-of-type {\n",
              "        vertical-align: middle;\n",
              "    }\n",
              "\n",
              "    .dataframe tbody tr th {\n",
              "        vertical-align: top;\n",
              "    }\n",
              "\n",
              "    .dataframe thead th {\n",
              "        text-align: right;\n",
              "    }\n",
              "</style>\n",
              "<table border=\"1\" class=\"dataframe\">\n",
              "  <thead>\n",
              "    <tr style=\"text-align: right;\">\n",
              "      <th></th>\n",
              "      <th>Error words</th>\n",
              "      <th>Actual output</th>\n",
              "      <th>Predicted output</th>\n",
              "    </tr>\n",
              "  </thead>\n",
              "  <tbody>\n",
              "    <tr>\n",
              "      <th>0</th>\n",
              "      <td>never taken place never take place surmise req...</td>\n",
              "      <td>0</td>\n",
              "      <td>1</td>\n",
              "    </tr>\n",
              "  </tbody>\n",
              "</table>\n",
              "</div>\n",
              "      <button class=\"colab-df-convert\" onclick=\"convertToInteractive('df-1eafb578-d689-4db0-ac6d-94efa3f280f2')\"\n",
              "              title=\"Convert this dataframe to an interactive table.\"\n",
              "              style=\"display:none;\">\n",
              "        \n",
              "  <svg xmlns=\"http://www.w3.org/2000/svg\" height=\"24px\"viewBox=\"0 0 24 24\"\n",
              "       width=\"24px\">\n",
              "    <path d=\"M0 0h24v24H0V0z\" fill=\"none\"/>\n",
              "    <path d=\"M18.56 5.44l.94 2.06.94-2.06 2.06-.94-2.06-.94-.94-2.06-.94 2.06-2.06.94zm-11 1L8.5 8.5l.94-2.06 2.06-.94-2.06-.94L8.5 2.5l-.94 2.06-2.06.94zm10 10l.94 2.06.94-2.06 2.06-.94-2.06-.94-.94-2.06-.94 2.06-2.06.94z\"/><path d=\"M17.41 7.96l-1.37-1.37c-.4-.4-.92-.59-1.43-.59-.52 0-1.04.2-1.43.59L10.3 9.45l-7.72 7.72c-.78.78-.78 2.05 0 2.83L4 21.41c.39.39.9.59 1.41.59.51 0 1.02-.2 1.41-.59l7.78-7.78 2.81-2.81c.8-.78.8-2.07 0-2.86zM5.41 20L4 18.59l7.72-7.72 1.47 1.35L5.41 20z\"/>\n",
              "  </svg>\n",
              "      </button>\n",
              "      \n",
              "  <style>\n",
              "    .colab-df-container {\n",
              "      display:flex;\n",
              "      flex-wrap:wrap;\n",
              "      gap: 12px;\n",
              "    }\n",
              "\n",
              "    .colab-df-convert {\n",
              "      background-color: #E8F0FE;\n",
              "      border: none;\n",
              "      border-radius: 50%;\n",
              "      cursor: pointer;\n",
              "      display: none;\n",
              "      fill: #1967D2;\n",
              "      height: 32px;\n",
              "      padding: 0 0 0 0;\n",
              "      width: 32px;\n",
              "    }\n",
              "\n",
              "    .colab-df-convert:hover {\n",
              "      background-color: #E2EBFA;\n",
              "      box-shadow: 0px 1px 2px rgba(60, 64, 67, 0.3), 0px 1px 3px 1px rgba(60, 64, 67, 0.15);\n",
              "      fill: #174EA6;\n",
              "    }\n",
              "\n",
              "    [theme=dark] .colab-df-convert {\n",
              "      background-color: #3B4455;\n",
              "      fill: #D2E3FC;\n",
              "    }\n",
              "\n",
              "    [theme=dark] .colab-df-convert:hover {\n",
              "      background-color: #434B5C;\n",
              "      box-shadow: 0px 1px 3px 1px rgba(0, 0, 0, 0.15);\n",
              "      filter: drop-shadow(0px 1px 2px rgba(0, 0, 0, 0.3));\n",
              "      fill: #FFFFFF;\n",
              "    }\n",
              "  </style>\n",
              "\n",
              "      <script>\n",
              "        const buttonEl =\n",
              "          document.querySelector('#df-1eafb578-d689-4db0-ac6d-94efa3f280f2 button.colab-df-convert');\n",
              "        buttonEl.style.display =\n",
              "          google.colab.kernel.accessAllowed ? 'block' : 'none';\n",
              "\n",
              "        async function convertToInteractive(key) {\n",
              "          const element = document.querySelector('#df-1eafb578-d689-4db0-ac6d-94efa3f280f2');\n",
              "          const dataTable =\n",
              "            await google.colab.kernel.invokeFunction('convertToInteractive',\n",
              "                                                     [key], {});\n",
              "          if (!dataTable) return;\n",
              "\n",
              "          const docLinkHtml = 'Like what you see? Visit the ' +\n",
              "            '<a target=\"_blank\" href=https://colab.research.google.com/notebooks/data_table.ipynb>data table notebook</a>'\n",
              "            + ' to learn more about interactive tables.';\n",
              "          element.innerHTML = '';\n",
              "          dataTable['output_type'] = 'display_data';\n",
              "          await google.colab.output.renderOutput(dataTable, element);\n",
              "          const docLink = document.createElement('div');\n",
              "          docLink.innerHTML = docLinkHtml;\n",
              "          element.appendChild(docLink);\n",
              "        }\n",
              "      </script>\n",
              "    </div>\n",
              "  </div>\n",
              "  "
            ]
          },
          "metadata": {},
          "execution_count": 49
        }
      ]
    },
    {
      "cell_type": "code",
      "source": [
        "from wordcloud import WordCloud\n",
        "for i in range(len(df)):\n",
        "  wordcloud = WordCloud(width = 800, height = 800,background_color ='white', min_font_size = 10).generate(df[\"Error words\"][i])\n",
        "  plt.figure(figsize = (8, 8), facecolor = None)\n",
        "  plt.imshow(wordcloud) \n",
        "  plt.show()"
      ],
      "metadata": {
        "id": "JNPs-Zofb7HR",
        "colab": {
          "base_uri": "https://localhost:8080/",
          "height": 487
        },
        "outputId": "e8b1501a-3e6a-4c3b-84b8-7ff8c99f485a"
      },
      "execution_count": null,
      "outputs": [
        {
          "output_type": "display_data",
          "data": {
            "text/plain": [
              "<Figure size 576x576 with 1 Axes>"
            ],
            "image/png": "[encoded data removed]"
          },
          "metadata": {
            "needs_background": "light"
          }
        }
      ]
    },
    {
      "cell_type": "markdown",
      "source": [
        "##Getting accuracy down 20%"
      ],
      "metadata": {
        "id": "7XAG1U5IoPwe"
      }
    },
    {
      "cell_type": "code",
      "source": [
        "decrease_accuracy = partitions(books_chosen,books_input,200,10)"
      ],
      "metadata": {
        "id": "DPzoiQU0LXH9"
      },
      "execution_count": null,
      "outputs": []
    },
    {
      "cell_type": "code",
      "source": [
        "from sklearn.model_selection import train_test_split\n",
        "x_train,x_test,y_train,y_test = train_test_split(decrease_accuracy['Words'],decrease_accuracy['books name'],test_size=0.2,random_state =0)"
      ],
      "metadata": {
        "id": "O14su-iRBw5e"
      },
      "execution_count": null,
      "outputs": []
    },
    {
      "cell_type": "code",
      "source": [
        "from sklearn.feature_extraction.text import TfidfVectorizer\n",
        "tfidf  = TfidfVectorizer(ngram_range=(1,2))\n",
        "x_train_tfid = tfidf.fit_transform(x_train).toarray()\n",
        "x_test_tfid = tfidf.transform(x_test).toarray()"
      ],
      "metadata": {
        "id": "DhtRvi6IC5gN"
      },
      "execution_count": null,
      "outputs": []
    },
    {
      "cell_type": "code",
      "source": [
        "from sklearn.preprocessing import LabelEncoder\n",
        "le = LabelEncoder()\n",
        "y_train = le.fit_transform(y_train)\n",
        "y_test = le.transform(y_test)"
      ],
      "metadata": {
        "id": "ptWHLovCNIOd"
      },
      "execution_count": null,
      "outputs": []
    },
    {
      "cell_type": "code",
      "source": [
        "classifier_svc_tfid = SVC(kernel ='linear')\n",
        "accuracies_svc_tfid = cross_val_score(classifier_svc_tfid, X=x_train_tfid,y=y_train,cv=10)\n",
        "print(\"Accuracy: {:.2f} %\".format(accuracies_svc_tfid.mean()*100))\n",
        "print(\"Standard Deviation: {:.2f} %\".format(accuracies_svc_tfid.std()*100))"
      ],
      "metadata": {
        "colab": {
          "base_uri": "https://localhost:8080/"
        },
        "id": "Qoe_1fdIEEDD",
        "outputId": "c0ddf7ad-029d-4898-9e4f-a11bbba09ef7"
      },
      "execution_count": null,
      "outputs": [
        {
          "output_type": "stream",
          "name": "stdout",
          "text": [
            "Accuracy: 61.50 %\n",
            "Standard Deviation: 7.50 %\n"
          ]
        }
      ]
    },
    {
      "cell_type": "code",
      "source": [
        "classifier_svc_tfid = SVC(kernel ='linear')\n",
        "classifier_svc_tfid.fit(x_train_tfid,y_train)\n",
        "y_pred_svc_tfid = classifier_svc_tfid.predict(x_test_tfid)"
      ],
      "metadata": {
        "id": "_JPv5G3IEPhs"
      },
      "execution_count": null,
      "outputs": []
    },
    {
      "cell_type": "code",
      "source": [
        "cm_svc_tfid = confusion_matrix(y_test,y_pred_svc_tfid)\n",
        "print(cm_svc_tfid)\n",
        "accuracy_svc_tfid=accuracy_score(y_test,y_pred_svc_tfid)\n",
        "accuracy_svc_tfid"
      ],
      "metadata": {
        "colab": {
          "base_uri": "https://localhost:8080/"
        },
        "id": "6ZbnFemVEWVs",
        "outputId": "7d5a90c2-b77b-48d5-86ba-cae8a4f992c4"
      },
      "execution_count": null,
      "outputs": [
        {
          "output_type": "stream",
          "name": "stdout",
          "text": [
            "[[23  5  1  5  1]\n",
            " [ 8 27  7  8  2]\n",
            " [ 3  1 26 10  0]\n",
            " [ 2  3  2 19  1]\n",
            " [ 0  0  0  0 46]]\n"
          ]
        },
        {
          "output_type": "execute_result",
          "data": {
            "text/plain": [
              "0.705"
            ]
          },
          "metadata": {},
          "execution_count": 57
        }
      ]
    },
    {
      "cell_type": "code",
      "source": [
        "variance = np.var(y_pred_knn_tfid)\n",
        "SSE = np.mean((np.mean(y_pred_svc_tfid)-y_test)**2)\n",
        "bias =SSE - variance\n",
        "print(\" Variance: {:.2f} \".format(variance))\n",
        "print(\"Bias: {:.2f}\".format(bias))"
      ],
      "metadata": {
        "colab": {
          "base_uri": "https://localhost:8080/"
        },
        "id": "TpuI2fXhEX6r",
        "outputId": "6dd538eb-1d4b-45d0-c32e-0c47ca770014"
      },
      "execution_count": null,
      "outputs": [
        {
          "output_type": "stream",
          "name": "stdout",
          "text": [
            " Variance: 1.96 \n",
            "Bias: 0.09\n"
          ]
        }
      ]
    },
    {
      "cell_type": "code",
      "source": [
        "from sklearn.metrics import classification_report,ConfusionMatrixDisplay\n",
        "cr_svc_tfid = classification_report(y_test,y_pred_svc_tfid)\n",
        "print(cr_svc_tfid)\n",
        "disp = ConfusionMatrixDisplay(confusion_matrix =cm_svc_tfid, display_labels = classifier_svc_tfid.classes_ )\n",
        "disp.plot()"
      ],
      "metadata": {
        "colab": {
          "base_uri": "https://localhost:8080/",
          "height": 560
        },
        "id": "HS_KNj-zmAMy",
        "outputId": "cfa3a018-8ead-49cb-f95a-649c621c7302"
      },
      "execution_count": null,
      "outputs": [
        {
          "output_type": "stream",
          "name": "stdout",
          "text": [
            "              precision    recall  f1-score   support\n",
            "\n",
            "           0       0.64      0.66      0.65        35\n",
            "           1       0.75      0.52      0.61        52\n",
            "           2       0.72      0.65      0.68        40\n",
            "           3       0.45      0.70      0.55        27\n",
            "           4       0.92      1.00      0.96        46\n",
            "\n",
            "    accuracy                           0.70       200\n",
            "   macro avg       0.70      0.71      0.69       200\n",
            "weighted avg       0.72      0.70      0.70       200\n",
            "\n"
          ]
        },
        {
          "output_type": "execute_result",
          "data": {
            "text/plain": [
              "<sklearn.metrics._plot.confusion_matrix.ConfusionMatrixDisplay at 0x7f2d85681910>"
            ]
          },
          "metadata": {},
          "execution_count": 59
        },
        {
          "output_type": "display_data",
          "data": {
            "text/plain": [
              "<Figure size 504x360 with 2 Axes>"
            ],
            "image/png": "[encoded data removed]"
          },
          "metadata": {
            "needs_background": "light"
          }
        }
      ]
    }
  ],
  "metadata": {
    "colab": {
      "collapsed_sections": [
        "RGgnOSoNxibM",
        "9h15aH83x0HQ",
        "WiydwEJdksLX",
        "89ubI4ijx9Sg",
        "loJWrNJ4yBC6"
      ],
      "provenance": []
    },
    "kernelspec": {
      "display_name": "Python 3",
      "name": "python3"
    },
    "language_info": {
      "name": "python"
    }
  },
  "nbformat": 4,
  "nbformat_minor": 0
}